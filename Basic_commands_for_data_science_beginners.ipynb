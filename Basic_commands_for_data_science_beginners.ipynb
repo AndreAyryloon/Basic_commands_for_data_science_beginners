{
 "cells": [
  {
   "cell_type": "markdown",
   "id": "36e1eab9",
   "metadata": {
    "heading_collapsed": true
   },
   "source": [
    "# Imports"
   ]
  },
  {
   "cell_type": "code",
   "execution_count": 3,
   "id": "edbfd8f2",
   "metadata": {
    "ExecuteTime": {
     "end_time": "2021-05-23T17:56:14.643059Z",
     "start_time": "2021-05-23T17:56:12.044242Z"
    },
    "hidden": true
   },
   "outputs": [],
   "source": [
    "import pandas as pd\n",
    "from sklearn.datasets import load_iris"
   ]
  },
  {
   "cell_type": "markdown",
   "id": "9ef93f27",
   "metadata": {
    "heading_collapsed": true
   },
   "source": [
    "# Importing data"
   ]
  },
  {
   "cell_type": "code",
   "execution_count": 84,
   "id": "a04b7928",
   "metadata": {
    "ExecuteTime": {
     "end_time": "2021-05-23T22:20:51.615114Z",
     "start_time": "2021-05-23T22:20:51.592176Z"
    },
    "hidden": true
   },
   "outputs": [],
   "source": [
    "#Carregando os dados do dataset em uma variável.\n",
    "iris = load_iris()\n",
    "\n",
    "#Transformando dados do dataset em um DataFrame pandas\n",
    "#Definindo as variáveis preditoras\n",
    "df = pd.DataFrame(iris.data, columns=[iris.feature_names])\n",
    "\n",
    "#Definindo a variável target\n",
    "#y = pd.Series(iris.target)"
   ]
  },
  {
   "cell_type": "markdown",
   "id": "470bfb57",
   "metadata": {
    "heading_collapsed": true
   },
   "source": [
    "# Visualization"
   ]
  },
  {
   "cell_type": "markdown",
   "id": "13ee3d9a",
   "metadata": {
    "hidden": true
   },
   "source": [
    "## Visualizando as 5 primeiras linhas do dataset"
   ]
  },
  {
   "cell_type": "code",
   "execution_count": 85,
   "id": "79ee85af",
   "metadata": {
    "ExecuteTime": {
     "end_time": "2021-05-23T22:20:58.065079Z",
     "start_time": "2021-05-23T22:20:58.032168Z"
    },
    "hidden": true,
    "scrolled": true
   },
   "outputs": [
    {
     "data": {
      "text/html": [
       "<div>\n",
       "<style scoped>\n",
       "    .dataframe tbody tr th:only-of-type {\n",
       "        vertical-align: middle;\n",
       "    }\n",
       "\n",
       "    .dataframe tbody tr th {\n",
       "        vertical-align: top;\n",
       "    }\n",
       "\n",
       "    .dataframe thead tr th {\n",
       "        text-align: left;\n",
       "    }\n",
       "</style>\n",
       "<table border=\"1\" class=\"dataframe\">\n",
       "  <thead>\n",
       "    <tr>\n",
       "      <th></th>\n",
       "      <th>sepal length (cm)</th>\n",
       "      <th>sepal width (cm)</th>\n",
       "      <th>petal length (cm)</th>\n",
       "      <th>petal width (cm)</th>\n",
       "    </tr>\n",
       "  </thead>\n",
       "  <tbody>\n",
       "    <tr>\n",
       "      <th>0</th>\n",
       "      <td>5.1</td>\n",
       "      <td>3.5</td>\n",
       "      <td>1.4</td>\n",
       "      <td>0.2</td>\n",
       "    </tr>\n",
       "    <tr>\n",
       "      <th>1</th>\n",
       "      <td>4.9</td>\n",
       "      <td>3.0</td>\n",
       "      <td>1.4</td>\n",
       "      <td>0.2</td>\n",
       "    </tr>\n",
       "    <tr>\n",
       "      <th>2</th>\n",
       "      <td>4.7</td>\n",
       "      <td>3.2</td>\n",
       "      <td>1.3</td>\n",
       "      <td>0.2</td>\n",
       "    </tr>\n",
       "    <tr>\n",
       "      <th>3</th>\n",
       "      <td>4.6</td>\n",
       "      <td>3.1</td>\n",
       "      <td>1.5</td>\n",
       "      <td>0.2</td>\n",
       "    </tr>\n",
       "    <tr>\n",
       "      <th>4</th>\n",
       "      <td>5.0</td>\n",
       "      <td>3.6</td>\n",
       "      <td>1.4</td>\n",
       "      <td>0.2</td>\n",
       "    </tr>\n",
       "  </tbody>\n",
       "</table>\n",
       "</div>"
      ],
      "text/plain": [
       "  sepal length (cm) sepal width (cm) petal length (cm) petal width (cm)\n",
       "0               5.1              3.5               1.4              0.2\n",
       "1               4.9              3.0               1.4              0.2\n",
       "2               4.7              3.2               1.3              0.2\n",
       "3               4.6              3.1               1.5              0.2\n",
       "4               5.0              3.6               1.4              0.2"
      ]
     },
     "execution_count": 85,
     "metadata": {},
     "output_type": "execute_result"
    }
   ],
   "source": [
    "#Visualizando as 5 primeiras linhas do dataset\n",
    "#Para visualizar mais linhas é necessário colocar a quantidade de linhas pretendida como parâmetro.\n",
    "df.head()"
   ]
  },
  {
   "cell_type": "markdown",
   "id": "f1f8bef2",
   "metadata": {
    "heading_collapsed": true,
    "hidden": true
   },
   "source": [
    "## Visualizando o tamanho do dataset"
   ]
  },
  {
   "cell_type": "code",
   "execution_count": 11,
   "id": "607bd0cf",
   "metadata": {
    "ExecuteTime": {
     "end_time": "2021-05-23T18:17:29.790224Z",
     "start_time": "2021-05-23T18:17:29.778256Z"
    },
    "hidden": true
   },
   "outputs": [
    {
     "data": {
      "text/plain": [
       "(150, 4)"
      ]
     },
     "execution_count": 11,
     "metadata": {},
     "output_type": "execute_result"
    }
   ],
   "source": [
    "#o data set possui 150 classes/linhas e 4 features/colunas.\n",
    "df.shape"
   ]
  },
  {
   "cell_type": "code",
   "execution_count": 26,
   "id": "039532f8",
   "metadata": {
    "ExecuteTime": {
     "end_time": "2021-05-23T18:55:02.937153Z",
     "start_time": "2021-05-23T18:55:02.882301Z"
    },
    "hidden": true
   },
   "outputs": [
    {
     "data": {
      "text/html": [
       "<div>\n",
       "<style scoped>\n",
       "    .dataframe tbody tr th:only-of-type {\n",
       "        vertical-align: middle;\n",
       "    }\n",
       "\n",
       "    .dataframe tbody tr th {\n",
       "        vertical-align: top;\n",
       "    }\n",
       "\n",
       "    .dataframe thead tr th {\n",
       "        text-align: left;\n",
       "    }\n",
       "</style>\n",
       "<table border=\"1\" class=\"dataframe\">\n",
       "  <thead>\n",
       "    <tr>\n",
       "      <th></th>\n",
       "      <th>sepal length (cm)</th>\n",
       "      <th>petal length (cm)</th>\n",
       "      <th>petal width (cm)</th>\n",
       "    </tr>\n",
       "  </thead>\n",
       "  <tbody>\n",
       "    <tr>\n",
       "      <th>count</th>\n",
       "      <td>150.000000</td>\n",
       "      <td>150.000000</td>\n",
       "      <td>150.000000</td>\n",
       "    </tr>\n",
       "    <tr>\n",
       "      <th>mean</th>\n",
       "      <td>5.386667</td>\n",
       "      <td>3.758000</td>\n",
       "      <td>1.199333</td>\n",
       "    </tr>\n",
       "    <tr>\n",
       "      <th>std</th>\n",
       "      <td>0.841752</td>\n",
       "      <td>1.765298</td>\n",
       "      <td>0.762238</td>\n",
       "    </tr>\n",
       "    <tr>\n",
       "      <th>min</th>\n",
       "      <td>4.000000</td>\n",
       "      <td>1.000000</td>\n",
       "      <td>0.100000</td>\n",
       "    </tr>\n",
       "    <tr>\n",
       "      <th>25%</th>\n",
       "      <td>5.000000</td>\n",
       "      <td>1.600000</td>\n",
       "      <td>0.300000</td>\n",
       "    </tr>\n",
       "    <tr>\n",
       "      <th>50%</th>\n",
       "      <td>5.000000</td>\n",
       "      <td>4.350000</td>\n",
       "      <td>1.300000</td>\n",
       "    </tr>\n",
       "    <tr>\n",
       "      <th>75%</th>\n",
       "      <td>6.000000</td>\n",
       "      <td>5.100000</td>\n",
       "      <td>1.800000</td>\n",
       "    </tr>\n",
       "    <tr>\n",
       "      <th>max</th>\n",
       "      <td>7.000000</td>\n",
       "      <td>6.900000</td>\n",
       "      <td>2.500000</td>\n",
       "    </tr>\n",
       "  </tbody>\n",
       "</table>\n",
       "</div>"
      ],
      "text/plain": [
       "      sepal length (cm) petal length (cm) petal width (cm)\n",
       "count        150.000000        150.000000       150.000000\n",
       "mean           5.386667          3.758000         1.199333\n",
       "std            0.841752          1.765298         0.762238\n",
       "min            4.000000          1.000000         0.100000\n",
       "25%            5.000000          1.600000         0.300000\n",
       "50%            5.000000          4.350000         1.300000\n",
       "75%            6.000000          5.100000         1.800000\n",
       "max            7.000000          6.900000         2.500000"
      ]
     },
     "execution_count": 26,
     "metadata": {},
     "output_type": "execute_result"
    }
   ],
   "source": [
    "#Imprime dados do DataFrame(total de classes, media, desvio padrão, minimos e maximos, 1º 2º 3º quartil)\n",
    "df.describe()"
   ]
  },
  {
   "cell_type": "markdown",
   "id": "25c86872",
   "metadata": {
    "heading_collapsed": true
   },
   "source": [
    "# Filtrando informações no DataFrame"
   ]
  },
  {
   "cell_type": "markdown",
   "id": "b9ca4448",
   "metadata": {
    "heading_collapsed": true,
    "hidden": true
   },
   "source": [
    "## Filtro por coluna"
   ]
  },
  {
   "cell_type": "code",
   "execution_count": 30,
   "id": "76b3936e",
   "metadata": {
    "ExecuteTime": {
     "end_time": "2021-05-23T19:04:03.842969Z",
     "start_time": "2021-05-23T19:04:03.818033Z"
    },
    "hidden": true
   },
   "outputs": [
    {
     "data": {
      "text/html": [
       "<div>\n",
       "<style scoped>\n",
       "    .dataframe tbody tr th:only-of-type {\n",
       "        vertical-align: middle;\n",
       "    }\n",
       "\n",
       "    .dataframe tbody tr th {\n",
       "        vertical-align: top;\n",
       "    }\n",
       "\n",
       "    .dataframe thead tr th {\n",
       "        text-align: left;\n",
       "    }\n",
       "</style>\n",
       "<table border=\"1\" class=\"dataframe\">\n",
       "  <thead>\n",
       "    <tr>\n",
       "      <th></th>\n",
       "      <th>sepal length (cm)</th>\n",
       "    </tr>\n",
       "  </thead>\n",
       "  <tbody>\n",
       "    <tr>\n",
       "      <th>0</th>\n",
       "      <td>5</td>\n",
       "    </tr>\n",
       "    <tr>\n",
       "      <th>1</th>\n",
       "      <td>4</td>\n",
       "    </tr>\n",
       "    <tr>\n",
       "      <th>2</th>\n",
       "      <td>4</td>\n",
       "    </tr>\n",
       "    <tr>\n",
       "      <th>3</th>\n",
       "      <td>4</td>\n",
       "    </tr>\n",
       "    <tr>\n",
       "      <th>4</th>\n",
       "      <td>5</td>\n",
       "    </tr>\n",
       "    <tr>\n",
       "      <th>...</th>\n",
       "      <td>...</td>\n",
       "    </tr>\n",
       "    <tr>\n",
       "      <th>145</th>\n",
       "      <td>6</td>\n",
       "    </tr>\n",
       "    <tr>\n",
       "      <th>146</th>\n",
       "      <td>6</td>\n",
       "    </tr>\n",
       "    <tr>\n",
       "      <th>147</th>\n",
       "      <td>6</td>\n",
       "    </tr>\n",
       "    <tr>\n",
       "      <th>148</th>\n",
       "      <td>6</td>\n",
       "    </tr>\n",
       "    <tr>\n",
       "      <th>149</th>\n",
       "      <td>5</td>\n",
       "    </tr>\n",
       "  </tbody>\n",
       "</table>\n",
       "<p>150 rows × 1 columns</p>\n",
       "</div>"
      ],
      "text/plain": [
       "    sepal length (cm)\n",
       "0                   5\n",
       "1                   4\n",
       "2                   4\n",
       "3                   4\n",
       "4                   5\n",
       "..                ...\n",
       "145                 6\n",
       "146                 6\n",
       "147                 6\n",
       "148                 6\n",
       "149                 5\n",
       "\n",
       "[150 rows x 1 columns]"
      ]
     },
     "execution_count": 30,
     "metadata": {},
     "output_type": "execute_result"
    }
   ],
   "source": [
    "#Apresenta as 5 primeiras e 5 ultimas classes(linhas)\n",
    "df['sepal length (cm)']"
   ]
  },
  {
   "cell_type": "markdown",
   "id": "aa2608d9",
   "metadata": {
    "heading_collapsed": true,
    "hidden": true
   },
   "source": [
    "## Filtro por linha"
   ]
  },
  {
   "cell_type": "code",
   "execution_count": 29,
   "id": "e891411d",
   "metadata": {
    "ExecuteTime": {
     "end_time": "2021-05-23T19:02:18.087288Z",
     "start_time": "2021-05-23T19:02:18.069334Z"
    },
    "hidden": true
   },
   "outputs": [
    {
     "data": {
      "text/html": [
       "<div>\n",
       "<style scoped>\n",
       "    .dataframe tbody tr th:only-of-type {\n",
       "        vertical-align: middle;\n",
       "    }\n",
       "\n",
       "    .dataframe tbody tr th {\n",
       "        vertical-align: top;\n",
       "    }\n",
       "\n",
       "    .dataframe thead tr th {\n",
       "        text-align: left;\n",
       "    }\n",
       "</style>\n",
       "<table border=\"1\" class=\"dataframe\">\n",
       "  <thead>\n",
       "    <tr>\n",
       "      <th></th>\n",
       "      <th>sepal length (cm)</th>\n",
       "      <th>sepal width (cm)</th>\n",
       "      <th>petal length (cm)</th>\n",
       "      <th>petal width (cm)</th>\n",
       "    </tr>\n",
       "  </thead>\n",
       "  <tbody>\n",
       "    <tr>\n",
       "      <th>0</th>\n",
       "      <td>5</td>\n",
       "      <td>3.5</td>\n",
       "      <td>1.4</td>\n",
       "      <td>0.2</td>\n",
       "    </tr>\n",
       "    <tr>\n",
       "      <th>1</th>\n",
       "      <td>4</td>\n",
       "      <td>3.0</td>\n",
       "      <td>1.4</td>\n",
       "      <td>0.2</td>\n",
       "    </tr>\n",
       "    <tr>\n",
       "      <th>2</th>\n",
       "      <td>4</td>\n",
       "      <td>3.2</td>\n",
       "      <td>1.3</td>\n",
       "      <td>0.2</td>\n",
       "    </tr>\n",
       "    <tr>\n",
       "      <th>3</th>\n",
       "      <td>4</td>\n",
       "      <td>3.1</td>\n",
       "      <td>1.5</td>\n",
       "      <td>0.2</td>\n",
       "    </tr>\n",
       "  </tbody>\n",
       "</table>\n",
       "</div>"
      ],
      "text/plain": [
       "  sepal length (cm) sepal width (cm) petal length (cm) petal width (cm)\n",
       "0                 5              3.5               1.4              0.2\n",
       "1                 4              3.0               1.4              0.2\n",
       "2                 4              3.2               1.3              0.2\n",
       "3                 4              3.1               1.5              0.2"
      ]
     },
     "execution_count": 29,
     "metadata": {},
     "output_type": "execute_result"
    }
   ],
   "source": [
    "#Filtrando da linha 0 até a linha 3 de todas as features\n",
    "df.loc[0:3]"
   ]
  },
  {
   "cell_type": "code",
   "execution_count": 31,
   "id": "245fc6c6",
   "metadata": {
    "ExecuteTime": {
     "end_time": "2021-05-23T19:05:00.990153Z",
     "start_time": "2021-05-23T19:05:00.965222Z"
    },
    "hidden": true
   },
   "outputs": [
    {
     "data": {
      "text/html": [
       "<div>\n",
       "<style scoped>\n",
       "    .dataframe tbody tr th:only-of-type {\n",
       "        vertical-align: middle;\n",
       "    }\n",
       "\n",
       "    .dataframe tbody tr th {\n",
       "        vertical-align: top;\n",
       "    }\n",
       "\n",
       "    .dataframe thead tr th {\n",
       "        text-align: left;\n",
       "    }\n",
       "</style>\n",
       "<table border=\"1\" class=\"dataframe\">\n",
       "  <thead>\n",
       "    <tr>\n",
       "      <th></th>\n",
       "      <th>petal length (cm)</th>\n",
       "    </tr>\n",
       "  </thead>\n",
       "  <tbody>\n",
       "    <tr>\n",
       "      <th>0</th>\n",
       "      <td>1.4</td>\n",
       "    </tr>\n",
       "    <tr>\n",
       "      <th>1</th>\n",
       "      <td>1.4</td>\n",
       "    </tr>\n",
       "    <tr>\n",
       "      <th>2</th>\n",
       "      <td>1.3</td>\n",
       "    </tr>\n",
       "  </tbody>\n",
       "</table>\n",
       "</div>"
      ],
      "text/plain": [
       "  petal length (cm)\n",
       "0               1.4\n",
       "1               1.4\n",
       "2               1.3"
      ]
     },
     "execution_count": 31,
     "metadata": {},
     "output_type": "execute_result"
    }
   ],
   "source": [
    "#Filtrando da linha 0 até a linha 2 de uma feature específica\n",
    "df['petal length (cm)'].loc[0:2]"
   ]
  },
  {
   "cell_type": "code",
   "execution_count": 37,
   "id": "631bb2b9",
   "metadata": {
    "ExecuteTime": {
     "end_time": "2021-05-23T19:10:24.953910Z",
     "start_time": "2021-05-23T19:10:24.900055Z"
    },
    "hidden": true
   },
   "outputs": [
    {
     "data": {
      "text/html": [
       "<div>\n",
       "<style scoped>\n",
       "    .dataframe tbody tr th:only-of-type {\n",
       "        vertical-align: middle;\n",
       "    }\n",
       "\n",
       "    .dataframe tbody tr th {\n",
       "        vertical-align: top;\n",
       "    }\n",
       "\n",
       "    .dataframe thead tr th {\n",
       "        text-align: left;\n",
       "    }\n",
       "</style>\n",
       "<table border=\"1\" class=\"dataframe\">\n",
       "  <thead>\n",
       "    <tr>\n",
       "      <th></th>\n",
       "      <th>sepal length (cm)</th>\n",
       "      <th>sepal width (cm)</th>\n",
       "      <th>petal length (cm)</th>\n",
       "      <th>petal width (cm)</th>\n",
       "    </tr>\n",
       "  </thead>\n",
       "  <tbody>\n",
       "    <tr>\n",
       "      <th>0</th>\n",
       "      <td>NaN</td>\n",
       "      <td>NaN</td>\n",
       "      <td>1.4</td>\n",
       "      <td>NaN</td>\n",
       "    </tr>\n",
       "    <tr>\n",
       "      <th>1</th>\n",
       "      <td>NaN</td>\n",
       "      <td>NaN</td>\n",
       "      <td>1.4</td>\n",
       "      <td>NaN</td>\n",
       "    </tr>\n",
       "    <tr>\n",
       "      <th>2</th>\n",
       "      <td>NaN</td>\n",
       "      <td>NaN</td>\n",
       "      <td>NaN</td>\n",
       "      <td>NaN</td>\n",
       "    </tr>\n",
       "    <tr>\n",
       "      <th>3</th>\n",
       "      <td>NaN</td>\n",
       "      <td>NaN</td>\n",
       "      <td>NaN</td>\n",
       "      <td>NaN</td>\n",
       "    </tr>\n",
       "    <tr>\n",
       "      <th>4</th>\n",
       "      <td>NaN</td>\n",
       "      <td>NaN</td>\n",
       "      <td>1.4</td>\n",
       "      <td>NaN</td>\n",
       "    </tr>\n",
       "    <tr>\n",
       "      <th>...</th>\n",
       "      <td>...</td>\n",
       "      <td>...</td>\n",
       "      <td>...</td>\n",
       "      <td>...</td>\n",
       "    </tr>\n",
       "    <tr>\n",
       "      <th>145</th>\n",
       "      <td>NaN</td>\n",
       "      <td>NaN</td>\n",
       "      <td>NaN</td>\n",
       "      <td>NaN</td>\n",
       "    </tr>\n",
       "    <tr>\n",
       "      <th>146</th>\n",
       "      <td>NaN</td>\n",
       "      <td>NaN</td>\n",
       "      <td>NaN</td>\n",
       "      <td>NaN</td>\n",
       "    </tr>\n",
       "    <tr>\n",
       "      <th>147</th>\n",
       "      <td>NaN</td>\n",
       "      <td>NaN</td>\n",
       "      <td>NaN</td>\n",
       "      <td>NaN</td>\n",
       "    </tr>\n",
       "    <tr>\n",
       "      <th>148</th>\n",
       "      <td>NaN</td>\n",
       "      <td>NaN</td>\n",
       "      <td>NaN</td>\n",
       "      <td>NaN</td>\n",
       "    </tr>\n",
       "    <tr>\n",
       "      <th>149</th>\n",
       "      <td>NaN</td>\n",
       "      <td>NaN</td>\n",
       "      <td>NaN</td>\n",
       "      <td>NaN</td>\n",
       "    </tr>\n",
       "  </tbody>\n",
       "</table>\n",
       "<p>150 rows × 4 columns</p>\n",
       "</div>"
      ],
      "text/plain": [
       "    sepal length (cm) sepal width (cm) petal length (cm) petal width (cm)\n",
       "0                 NaN              NaN               1.4              NaN\n",
       "1                 NaN              NaN               1.4              NaN\n",
       "2                 NaN              NaN               NaN              NaN\n",
       "3                 NaN              NaN               NaN              NaN\n",
       "4                 NaN              NaN               1.4              NaN\n",
       "..                ...              ...               ...              ...\n",
       "145               NaN              NaN               NaN              NaN\n",
       "146               NaN              NaN               NaN              NaN\n",
       "147               NaN              NaN               NaN              NaN\n",
       "148               NaN              NaN               NaN              NaN\n",
       "149               NaN              NaN               NaN              NaN\n",
       "\n",
       "[150 rows x 4 columns]"
      ]
     },
     "execution_count": 37,
     "metadata": {},
     "output_type": "execute_result"
    }
   ],
   "source": [
    "#Filtro para buscas por valores específicos\n",
    "df[df['petal length (cm)'] == 1.4]"
   ]
  },
  {
   "cell_type": "markdown",
   "id": "87cc2627",
   "metadata": {
    "ExecuteTime": {
     "end_time": "2021-05-23T18:20:54.373303Z",
     "start_time": "2021-05-23T18:20:54.361334Z"
    },
    "heading_collapsed": true,
    "hidden": true
   },
   "source": [
    "## Valores faltantes"
   ]
  },
  {
   "cell_type": "code",
   "execution_count": 12,
   "id": "d8d43636",
   "metadata": {
    "ExecuteTime": {
     "end_time": "2021-05-23T18:20:21.958746Z",
     "start_time": "2021-05-23T18:20:21.932316Z"
    },
    "hidden": true
   },
   "outputs": [
    {
     "data": {
      "text/plain": [
       "sepal length (cm)    0\n",
       "sepal width (cm)     0\n",
       "petal length (cm)    0\n",
       "petal width (cm)     0\n",
       "dtype: int64"
      ]
     },
     "execution_count": 12,
     "metadata": {},
     "output_type": "execute_result"
    }
   ],
   "source": [
    "#Verificando se existem valores faltantes no dataset.\n",
    "df.isnull().sum()"
   ]
  },
  {
   "cell_type": "code",
   "execution_count": 15,
   "id": "fa692646",
   "metadata": {
    "ExecuteTime": {
     "end_time": "2021-05-23T18:30:29.291845Z",
     "start_time": "2021-05-23T18:30:29.251604Z"
    },
    "hidden": true
   },
   "outputs": [
    {
     "data": {
      "text/plain": [
       "sepal length (cm)    0.0\n",
       "sepal width (cm)     0.0\n",
       "petal length (cm)    0.0\n",
       "petal width (cm)     0.0\n",
       "dtype: float64"
      ]
     },
     "execution_count": 15,
     "metadata": {},
     "output_type": "execute_result"
    }
   ],
   "source": [
    "#Verificando o porcentual de valores faltantes no dataset.\n",
    "df.isnull().sum() / len(df['sepal length (cm)']) * 100"
   ]
  },
  {
   "cell_type": "markdown",
   "id": "c446939b",
   "metadata": {
    "heading_collapsed": true,
    "hidden": true
   },
   "source": [
    "## Verificando a quantidade de valores de uma feature"
   ]
  },
  {
   "cell_type": "code",
   "execution_count": 19,
   "id": "c45e8242",
   "metadata": {
    "ExecuteTime": {
     "end_time": "2021-05-23T18:39:58.508477Z",
     "start_time": "2021-05-23T18:39:58.481550Z"
    },
    "hidden": true
   },
   "outputs": [
    {
     "data": {
      "text/plain": [
       "(sepal length (cm),)\n",
       "5.0                     10\n",
       "6.3                      9\n",
       "5.1                      9\n",
       "5.7                      8\n",
       "6.7                      8\n",
       "6.4                      7\n",
       "5.8                      7\n",
       "5.5                      7\n",
       "5.4                      6\n",
       "6.1                      6\n",
       "5.6                      6\n",
       "6.0                      6\n",
       "4.9                      6\n",
       "4.8                      5\n",
       "6.5                      5\n",
       "6.2                      4\n",
       "5.2                      4\n",
       "4.6                      4\n",
       "7.7                      4\n",
       "6.9                      4\n",
       "7.2                      3\n",
       "5.9                      3\n",
       "4.4                      3\n",
       "6.8                      3\n",
       "4.7                      2\n",
       "6.6                      2\n",
       "7.4                      1\n",
       "7.6                      1\n",
       "7.3                      1\n",
       "4.3                      1\n",
       "7.1                      1\n",
       "7.0                      1\n",
       "5.3                      1\n",
       "4.5                      1\n",
       "7.9                      1\n",
       "dtype: int64"
      ]
     },
     "execution_count": 19,
     "metadata": {},
     "output_type": "execute_result"
    }
   ],
   "source": [
    "'''Em problemas de classificação é importante para ajudar na decisão de fazer a classificação em 0 e 1 para features \n",
    "que possuem dois valores ou one hot encoding para features que contem acima de 2 valores'''\n",
    "\n",
    "df['sepal length (cm)'].value_counts()"
   ]
  },
  {
   "cell_type": "markdown",
   "id": "56eab548",
   "metadata": {
    "heading_collapsed": true
   },
   "source": [
    "# Modificando dados do DataFrame"
   ]
  },
  {
   "cell_type": "markdown",
   "id": "915ecad6",
   "metadata": {
    "ExecuteTime": {
     "end_time": "2021-05-23T18:30:36.622776Z",
     "start_time": "2021-05-23T18:30:36.609811Z"
    },
    "heading_collapsed": true,
    "hidden": true
   },
   "source": [
    "## Tipos de dados no DataFrame"
   ]
  },
  {
   "cell_type": "code",
   "execution_count": 17,
   "id": "2bca21ed",
   "metadata": {
    "ExecuteTime": {
     "end_time": "2021-05-23T18:31:58.849418Z",
     "start_time": "2021-05-23T18:31:58.824484Z"
    },
    "hidden": true
   },
   "outputs": [
    {
     "data": {
      "text/plain": [
       "sepal length (cm)    float64\n",
       "sepal width (cm)     float64\n",
       "petal length (cm)    float64\n",
       "petal width (cm)     float64\n",
       "dtype: object"
      ]
     },
     "execution_count": 17,
     "metadata": {},
     "output_type": "execute_result"
    }
   ],
   "source": [
    "df.dtypes"
   ]
  },
  {
   "cell_type": "markdown",
   "id": "59d20011",
   "metadata": {
    "ExecuteTime": {
     "end_time": "2021-05-23T18:42:00.519270Z",
     "start_time": "2021-05-23T18:42:00.503549Z"
    },
    "heading_collapsed": true,
    "hidden": true
   },
   "source": [
    "## Alterando o tipo de dado para \"int\""
   ]
  },
  {
   "cell_type": "code",
   "execution_count": 24,
   "id": "21ec4bf9",
   "metadata": {
    "ExecuteTime": {
     "end_time": "2021-05-23T18:48:21.235408Z",
     "start_time": "2021-05-23T18:48:21.208480Z"
    },
    "hidden": true
   },
   "outputs": [
    {
     "data": {
      "text/plain": [
       "sepal length (cm)      int32\n",
       "sepal width (cm)     float64\n",
       "petal length (cm)    float64\n",
       "petal width (cm)     float64\n",
       "dtype: object"
      ]
     },
     "execution_count": 24,
     "metadata": {},
     "output_type": "execute_result"
    }
   ],
   "source": [
    "#Atribuindo a ateração do tipo de dado a própria feature.\n",
    "df['sepal length (cm)'] = df['sepal length (cm)'].astype(int)\n",
    "df.dtypes"
   ]
  },
  {
   "cell_type": "markdown",
   "id": "2906843a",
   "metadata": {
    "heading_collapsed": true,
    "hidden": true
   },
   "source": [
    "## Alterando o tipo de dado para \"object\""
   ]
  },
  {
   "cell_type": "code",
   "execution_count": 25,
   "id": "c4b46124",
   "metadata": {
    "ExecuteTime": {
     "end_time": "2021-05-23T18:48:24.451298Z",
     "start_time": "2021-05-23T18:48:24.432350Z"
    },
    "hidden": true
   },
   "outputs": [
    {
     "data": {
      "text/plain": [
       "sepal length (cm)      int32\n",
       "sepal width (cm)      object\n",
       "petal length (cm)    float64\n",
       "petal width (cm)     float64\n",
       "dtype: object"
      ]
     },
     "execution_count": 25,
     "metadata": {},
     "output_type": "execute_result"
    }
   ],
   "source": [
    "df['sepal width (cm)'] = df['sepal width (cm)'].astype(object)\n",
    "df.dtypes"
   ]
  },
  {
   "cell_type": "markdown",
   "id": "5f724860",
   "metadata": {
    "heading_collapsed": true,
    "hidden": true
   },
   "source": [
    "## Alterando o nome das features(colunas)"
   ]
  },
  {
   "cell_type": "code",
   "execution_count": 47,
   "id": "76b4cdfa",
   "metadata": {
    "ExecuteTime": {
     "end_time": "2021-05-23T19:26:34.351794Z",
     "start_time": "2021-05-23T19:26:34.328857Z"
    },
    "hidden": true
   },
   "outputs": [],
   "source": [
    "#copiando o DataFrame \"df\"\n",
    "df2 = df.copy()\n",
    "\n",
    "#Renomeando o nome das colunas\n",
    "df2.rename(columns={'sepal length (cm)':'comprimento_sepala(cm)',\n",
    "                    'sepal width (cm)':'largura_sepala(cm)',\n",
    "                    'petal length (cm)':'comprimento_petala(cm)',\n",
    "                    'petal width (cm)':'largura_petala(cm)'}, inplace=True) #inplace=true para não imprimir as alterações."
   ]
  },
  {
   "cell_type": "code",
   "execution_count": 48,
   "id": "2d82f16f",
   "metadata": {
    "ExecuteTime": {
     "end_time": "2021-05-23T19:26:35.516382Z",
     "start_time": "2021-05-23T19:26:35.494441Z"
    },
    "hidden": true
   },
   "outputs": [
    {
     "data": {
      "text/html": [
       "<div>\n",
       "<style scoped>\n",
       "    .dataframe tbody tr th:only-of-type {\n",
       "        vertical-align: middle;\n",
       "    }\n",
       "\n",
       "    .dataframe tbody tr th {\n",
       "        vertical-align: top;\n",
       "    }\n",
       "\n",
       "    .dataframe thead tr th {\n",
       "        text-align: left;\n",
       "    }\n",
       "</style>\n",
       "<table border=\"1\" class=\"dataframe\">\n",
       "  <thead>\n",
       "    <tr>\n",
       "      <th></th>\n",
       "      <th>comprimento_sepala(cm)</th>\n",
       "      <th>largura_sepala(cm)</th>\n",
       "      <th>comprimento_petala(cm)</th>\n",
       "      <th>largura_petala(cm)</th>\n",
       "    </tr>\n",
       "  </thead>\n",
       "  <tbody>\n",
       "    <tr>\n",
       "      <th>0</th>\n",
       "      <td>5.1</td>\n",
       "      <td>3.5</td>\n",
       "      <td>1.4</td>\n",
       "      <td>0.2</td>\n",
       "    </tr>\n",
       "    <tr>\n",
       "      <th>1</th>\n",
       "      <td>4.9</td>\n",
       "      <td>3.0</td>\n",
       "      <td>1.4</td>\n",
       "      <td>0.2</td>\n",
       "    </tr>\n",
       "  </tbody>\n",
       "</table>\n",
       "</div>"
      ],
      "text/plain": [
       "  comprimento_sepala(cm) largura_sepala(cm) comprimento_petala(cm)  \\\n",
       "0                    5.1                3.5                    1.4   \n",
       "1                    4.9                3.0                    1.4   \n",
       "\n",
       "  largura_petala(cm)  \n",
       "0                0.2  \n",
       "1                0.2  "
      ]
     },
     "execution_count": 48,
     "metadata": {},
     "output_type": "execute_result"
    }
   ],
   "source": [
    "df2.head(2)"
   ]
  },
  {
   "cell_type": "markdown",
   "id": "0e7ae8f9",
   "metadata": {
    "heading_collapsed": true
   },
   "source": [
    "# Criando e deletando features(colunas)"
   ]
  },
  {
   "cell_type": "markdown",
   "id": "d8b4928d",
   "metadata": {
    "heading_collapsed": true,
    "hidden": true
   },
   "source": [
    "## Criando nova coluna onde os valores são \"object\""
   ]
  },
  {
   "cell_type": "code",
   "execution_count": 86,
   "id": "84c40051",
   "metadata": {
    "ExecuteTime": {
     "end_time": "2021-05-23T22:21:13.589237Z",
     "start_time": "2021-05-23T22:21:13.563342Z"
    },
    "hidden": true
   },
   "outputs": [
    {
     "data": {
      "text/html": [
       "<div>\n",
       "<style scoped>\n",
       "    .dataframe tbody tr th:only-of-type {\n",
       "        vertical-align: middle;\n",
       "    }\n",
       "\n",
       "    .dataframe tbody tr th {\n",
       "        vertical-align: top;\n",
       "    }\n",
       "\n",
       "    .dataframe thead tr th {\n",
       "        text-align: left;\n",
       "    }\n",
       "</style>\n",
       "<table border=\"1\" class=\"dataframe\">\n",
       "  <thead>\n",
       "    <tr>\n",
       "      <th></th>\n",
       "      <th>sepal length (cm)</th>\n",
       "      <th>sepal width (cm)</th>\n",
       "      <th>petal length (cm)</th>\n",
       "      <th>petal width (cm)</th>\n",
       "    </tr>\n",
       "  </thead>\n",
       "  <tbody>\n",
       "    <tr>\n",
       "      <th>0</th>\n",
       "      <td>5.1</td>\n",
       "      <td>3.5</td>\n",
       "      <td>1.4</td>\n",
       "      <td>0.2</td>\n",
       "    </tr>\n",
       "    <tr>\n",
       "      <th>1</th>\n",
       "      <td>4.9</td>\n",
       "      <td>3.0</td>\n",
       "      <td>1.4</td>\n",
       "      <td>0.2</td>\n",
       "    </tr>\n",
       "    <tr>\n",
       "      <th>2</th>\n",
       "      <td>4.7</td>\n",
       "      <td>3.2</td>\n",
       "      <td>1.3</td>\n",
       "      <td>0.2</td>\n",
       "    </tr>\n",
       "  </tbody>\n",
       "</table>\n",
       "</div>"
      ],
      "text/plain": [
       "  sepal length (cm) sepal width (cm) petal length (cm) petal width (cm)\n",
       "0               5.1              3.5               1.4              0.2\n",
       "1               4.9              3.0               1.4              0.2\n",
       "2               4.7              3.2               1.3              0.2"
      ]
     },
     "execution_count": 86,
     "metadata": {},
     "output_type": "execute_result"
    }
   ],
   "source": [
    "#Visualizando as colunas atuais do Dataset\n",
    "df.head(3)"
   ]
  },
  {
   "cell_type": "code",
   "execution_count": 87,
   "id": "a231e117",
   "metadata": {
    "ExecuteTime": {
     "end_time": "2021-05-23T22:21:19.670599Z",
     "start_time": "2021-05-23T22:21:19.649939Z"
    },
    "hidden": true
   },
   "outputs": [],
   "source": [
    "#Criando nova coluna\n",
    "df['nova_coluna'] = 'novos_valores'"
   ]
  },
  {
   "cell_type": "code",
   "execution_count": 88,
   "id": "19f339c4",
   "metadata": {
    "ExecuteTime": {
     "end_time": "2021-05-23T22:21:21.208199Z",
     "start_time": "2021-05-23T22:21:21.187254Z"
    },
    "hidden": true
   },
   "outputs": [
    {
     "data": {
      "text/html": [
       "<div>\n",
       "<style scoped>\n",
       "    .dataframe tbody tr th:only-of-type {\n",
       "        vertical-align: middle;\n",
       "    }\n",
       "\n",
       "    .dataframe tbody tr th {\n",
       "        vertical-align: top;\n",
       "    }\n",
       "\n",
       "    .dataframe thead tr th {\n",
       "        text-align: left;\n",
       "    }\n",
       "</style>\n",
       "<table border=\"1\" class=\"dataframe\">\n",
       "  <thead>\n",
       "    <tr>\n",
       "      <th></th>\n",
       "      <th>sepal length (cm)</th>\n",
       "      <th>sepal width (cm)</th>\n",
       "      <th>petal length (cm)</th>\n",
       "      <th>petal width (cm)</th>\n",
       "      <th>nova_coluna</th>\n",
       "    </tr>\n",
       "  </thead>\n",
       "  <tbody>\n",
       "    <tr>\n",
       "      <th>0</th>\n",
       "      <td>5.1</td>\n",
       "      <td>3.5</td>\n",
       "      <td>1.4</td>\n",
       "      <td>0.2</td>\n",
       "      <td>novos_valores</td>\n",
       "    </tr>\n",
       "    <tr>\n",
       "      <th>1</th>\n",
       "      <td>4.9</td>\n",
       "      <td>3.0</td>\n",
       "      <td>1.4</td>\n",
       "      <td>0.2</td>\n",
       "      <td>novos_valores</td>\n",
       "    </tr>\n",
       "    <tr>\n",
       "      <th>2</th>\n",
       "      <td>4.7</td>\n",
       "      <td>3.2</td>\n",
       "      <td>1.3</td>\n",
       "      <td>0.2</td>\n",
       "      <td>novos_valores</td>\n",
       "    </tr>\n",
       "  </tbody>\n",
       "</table>\n",
       "</div>"
      ],
      "text/plain": [
       "  sepal length (cm) sepal width (cm) petal length (cm) petal width (cm)  \\\n",
       "0               5.1              3.5               1.4              0.2   \n",
       "1               4.9              3.0               1.4              0.2   \n",
       "2               4.7              3.2               1.3              0.2   \n",
       "\n",
       "     nova_coluna  \n",
       "0  novos_valores  \n",
       "1  novos_valores  \n",
       "2  novos_valores  "
      ]
     },
     "execution_count": 88,
     "metadata": {},
     "output_type": "execute_result"
    }
   ],
   "source": [
    "df.head(3)"
   ]
  },
  {
   "cell_type": "markdown",
   "id": "8a100ade",
   "metadata": {
    "heading_collapsed": true,
    "hidden": true
   },
   "source": [
    "## Criando nova coluna onde os valores são \"int\""
   ]
  },
  {
   "cell_type": "code",
   "execution_count": 89,
   "id": "55a038b4",
   "metadata": {
    "ExecuteTime": {
     "end_time": "2021-05-23T22:21:26.145953Z",
     "start_time": "2021-05-23T22:21:26.140967Z"
    },
    "hidden": true
   },
   "outputs": [],
   "source": [
    "#Criando nova coluna\n",
    "df['nova_coluna_int'] = 77"
   ]
  },
  {
   "cell_type": "code",
   "execution_count": 90,
   "id": "33b558cf",
   "metadata": {
    "ExecuteTime": {
     "end_time": "2021-05-23T22:21:27.530241Z",
     "start_time": "2021-05-23T22:21:27.501310Z"
    },
    "hidden": true
   },
   "outputs": [
    {
     "data": {
      "text/html": [
       "<div>\n",
       "<style scoped>\n",
       "    .dataframe tbody tr th:only-of-type {\n",
       "        vertical-align: middle;\n",
       "    }\n",
       "\n",
       "    .dataframe tbody tr th {\n",
       "        vertical-align: top;\n",
       "    }\n",
       "\n",
       "    .dataframe thead tr th {\n",
       "        text-align: left;\n",
       "    }\n",
       "</style>\n",
       "<table border=\"1\" class=\"dataframe\">\n",
       "  <thead>\n",
       "    <tr>\n",
       "      <th></th>\n",
       "      <th>sepal length (cm)</th>\n",
       "      <th>sepal width (cm)</th>\n",
       "      <th>petal length (cm)</th>\n",
       "      <th>petal width (cm)</th>\n",
       "      <th>nova_coluna</th>\n",
       "      <th>nova_coluna_int</th>\n",
       "    </tr>\n",
       "  </thead>\n",
       "  <tbody>\n",
       "    <tr>\n",
       "      <th>0</th>\n",
       "      <td>5.1</td>\n",
       "      <td>3.5</td>\n",
       "      <td>1.4</td>\n",
       "      <td>0.2</td>\n",
       "      <td>novos_valores</td>\n",
       "      <td>77</td>\n",
       "    </tr>\n",
       "    <tr>\n",
       "      <th>1</th>\n",
       "      <td>4.9</td>\n",
       "      <td>3.0</td>\n",
       "      <td>1.4</td>\n",
       "      <td>0.2</td>\n",
       "      <td>novos_valores</td>\n",
       "      <td>77</td>\n",
       "    </tr>\n",
       "    <tr>\n",
       "      <th>2</th>\n",
       "      <td>4.7</td>\n",
       "      <td>3.2</td>\n",
       "      <td>1.3</td>\n",
       "      <td>0.2</td>\n",
       "      <td>novos_valores</td>\n",
       "      <td>77</td>\n",
       "    </tr>\n",
       "  </tbody>\n",
       "</table>\n",
       "</div>"
      ],
      "text/plain": [
       "  sepal length (cm) sepal width (cm) petal length (cm) petal width (cm)  \\\n",
       "0               5.1              3.5               1.4              0.2   \n",
       "1               4.9              3.0               1.4              0.2   \n",
       "2               4.7              3.2               1.3              0.2   \n",
       "\n",
       "     nova_coluna nova_coluna_int  \n",
       "0  novos_valores              77  \n",
       "1  novos_valores              77  \n",
       "2  novos_valores              77  "
      ]
     },
     "execution_count": 90,
     "metadata": {},
     "output_type": "execute_result"
    }
   ],
   "source": [
    "df.head(3)"
   ]
  },
  {
   "cell_type": "markdown",
   "id": "c33e200a",
   "metadata": {
    "heading_collapsed": true,
    "hidden": true
   },
   "source": [
    "## Criando nova coluna onde os valores são do tipo date"
   ]
  },
  {
   "cell_type": "markdown",
   "id": "a7f46fac",
   "metadata": {
    "heading_collapsed": true,
    "hidden": true
   },
   "source": [
    "### Criando coluna data com tipo \"object\" e transformando em tipo \"datetime64\""
   ]
  },
  {
   "cell_type": "code",
   "execution_count": 95,
   "id": "d2d6d9fa",
   "metadata": {
    "ExecuteTime": {
     "end_time": "2021-05-23T22:22:42.459567Z",
     "start_time": "2021-05-23T22:22:42.438624Z"
    },
    "hidden": true
   },
   "outputs": [
    {
     "data": {
      "text/plain": [
       "sepal length (cm)    float64\n",
       "sepal width (cm)     float64\n",
       "petal length (cm)    float64\n",
       "petal width (cm)     float64\n",
       "nova_coluna           object\n",
       "nova_coluna_int        int64\n",
       "date                  object\n",
       "dtype: object"
      ]
     },
     "execution_count": 95,
     "metadata": {},
     "output_type": "execute_result"
    }
   ],
   "source": [
    "df['date'] = '2020-05-05'\n",
    "df.dtypes"
   ]
  },
  {
   "cell_type": "code",
   "execution_count": 96,
   "id": "40b970ec",
   "metadata": {
    "ExecuteTime": {
     "end_time": "2021-05-23T22:22:50.445076Z",
     "start_time": "2021-05-23T22:22:50.422138Z"
    },
    "hidden": true
   },
   "outputs": [
    {
     "data": {
      "text/plain": [
       "sepal length (cm)           float64\n",
       "sepal width (cm)            float64\n",
       "petal length (cm)           float64\n",
       "petal width (cm)            float64\n",
       "nova_coluna                  object\n",
       "nova_coluna_int               int64\n",
       "date                 datetime64[ns]\n",
       "dtype: object"
      ]
     },
     "execution_count": 96,
     "metadata": {},
     "output_type": "execute_result"
    }
   ],
   "source": [
    "#Mudando a coluna date de \"object\" para \"datetime64\"\n",
    "#df['date'] = pd.to_datetime(df['date'])\n",
    "df['date'] = df['date'].astype('datetime64')\n",
    "df.dtypes"
   ]
  },
  {
   "cell_type": "markdown",
   "id": "b80d83a7",
   "metadata": {
    "heading_collapsed": true,
    "hidden": true
   },
   "source": [
    "### Criando coluna data2 já com tipo \"datetime64\""
   ]
  },
  {
   "cell_type": "code",
   "execution_count": 97,
   "id": "c001e56d",
   "metadata": {
    "ExecuteTime": {
     "end_time": "2021-05-23T22:23:33.614550Z",
     "start_time": "2021-05-23T22:23:33.591614Z"
    },
    "hidden": true
   },
   "outputs": [
    {
     "data": {
      "text/plain": [
       "sepal length (cm)           float64\n",
       "sepal width (cm)            float64\n",
       "petal length (cm)           float64\n",
       "petal width (cm)            float64\n",
       "nova_coluna                  object\n",
       "nova_coluna_int               int64\n",
       "date                 datetime64[ns]\n",
       "date2                datetime64[ns]\n",
       "dtype: object"
      ]
     },
     "execution_count": 97,
     "metadata": {},
     "output_type": "execute_result"
    }
   ],
   "source": [
    "df['date2'] = pd.to_datetime('2021-01-01')\n",
    "df.dtypes"
   ]
  },
  {
   "cell_type": "markdown",
   "id": "2debdc57",
   "metadata": {
    "heading_collapsed": true,
    "hidden": true
   },
   "source": [
    "## Excluindo feature(coluna)"
   ]
  },
  {
   "cell_type": "code",
   "execution_count": 98,
   "id": "580dfb44",
   "metadata": {
    "ExecuteTime": {
     "end_time": "2021-05-23T22:27:02.287850Z",
     "start_time": "2021-05-23T22:27:02.248955Z"
    },
    "hidden": true
   },
   "outputs": [
    {
     "data": {
      "text/html": [
       "<div>\n",
       "<style scoped>\n",
       "    .dataframe tbody tr th:only-of-type {\n",
       "        vertical-align: middle;\n",
       "    }\n",
       "\n",
       "    .dataframe tbody tr th {\n",
       "        vertical-align: top;\n",
       "    }\n",
       "\n",
       "    .dataframe thead tr th {\n",
       "        text-align: left;\n",
       "    }\n",
       "</style>\n",
       "<table border=\"1\" class=\"dataframe\">\n",
       "  <thead>\n",
       "    <tr>\n",
       "      <th></th>\n",
       "      <th>sepal length (cm)</th>\n",
       "      <th>sepal width (cm)</th>\n",
       "      <th>petal length (cm)</th>\n",
       "      <th>petal width (cm)</th>\n",
       "      <th>nova_coluna</th>\n",
       "      <th>nova_coluna_int</th>\n",
       "      <th>date</th>\n",
       "      <th>date2</th>\n",
       "    </tr>\n",
       "  </thead>\n",
       "  <tbody>\n",
       "    <tr>\n",
       "      <th>0</th>\n",
       "      <td>5.1</td>\n",
       "      <td>3.5</td>\n",
       "      <td>1.4</td>\n",
       "      <td>0.2</td>\n",
       "      <td>novos_valores</td>\n",
       "      <td>77</td>\n",
       "      <td>2020-05-05</td>\n",
       "      <td>2021-01-01</td>\n",
       "    </tr>\n",
       "    <tr>\n",
       "      <th>1</th>\n",
       "      <td>4.9</td>\n",
       "      <td>3.0</td>\n",
       "      <td>1.4</td>\n",
       "      <td>0.2</td>\n",
       "      <td>novos_valores</td>\n",
       "      <td>77</td>\n",
       "      <td>2020-05-05</td>\n",
       "      <td>2021-01-01</td>\n",
       "    </tr>\n",
       "  </tbody>\n",
       "</table>\n",
       "</div>"
      ],
      "text/plain": [
       "  sepal length (cm) sepal width (cm) petal length (cm) petal width (cm)  \\\n",
       "0               5.1              3.5               1.4              0.2   \n",
       "1               4.9              3.0               1.4              0.2   \n",
       "\n",
       "     nova_coluna nova_coluna_int       date      date2  \n",
       "0  novos_valores              77 2020-05-05 2021-01-01  \n",
       "1  novos_valores              77 2020-05-05 2021-01-01  "
      ]
     },
     "execution_count": 98,
     "metadata": {},
     "output_type": "execute_result"
    }
   ],
   "source": [
    "df.head(2)"
   ]
  },
  {
   "cell_type": "code",
   "execution_count": 99,
   "id": "631320a1",
   "metadata": {
    "ExecuteTime": {
     "end_time": "2021-05-23T22:27:14.904727Z",
     "start_time": "2021-05-23T22:27:14.862840Z"
    },
    "hidden": true
   },
   "outputs": [
    {
     "name": "stderr",
     "output_type": "stream",
     "text": [
      "C:\\Users\\Ayron\\.conda\\envs\\HR_Company\\lib\\site-packages\\pandas\\core\\generic.py:4153: PerformanceWarning: dropping on a non-lexsorted multi-index without a level parameter may impact performance.\n",
      "  obj = obj._drop_axis(labels, axis, level=level, errors=errors)\n"
     ]
    },
    {
     "data": {
      "text/html": [
       "<div>\n",
       "<style scoped>\n",
       "    .dataframe tbody tr th:only-of-type {\n",
       "        vertical-align: middle;\n",
       "    }\n",
       "\n",
       "    .dataframe tbody tr th {\n",
       "        vertical-align: top;\n",
       "    }\n",
       "\n",
       "    .dataframe thead tr th {\n",
       "        text-align: left;\n",
       "    }\n",
       "</style>\n",
       "<table border=\"1\" class=\"dataframe\">\n",
       "  <thead>\n",
       "    <tr>\n",
       "      <th></th>\n",
       "      <th>sepal length (cm)</th>\n",
       "      <th>sepal width (cm)</th>\n",
       "      <th>petal length (cm)</th>\n",
       "      <th>petal width (cm)</th>\n",
       "      <th>nova_coluna</th>\n",
       "      <th>nova_coluna_int</th>\n",
       "      <th>date</th>\n",
       "    </tr>\n",
       "  </thead>\n",
       "  <tbody>\n",
       "    <tr>\n",
       "      <th>0</th>\n",
       "      <td>5.1</td>\n",
       "      <td>3.5</td>\n",
       "      <td>1.4</td>\n",
       "      <td>0.2</td>\n",
       "      <td>novos_valores</td>\n",
       "      <td>77</td>\n",
       "      <td>2020-05-05</td>\n",
       "    </tr>\n",
       "    <tr>\n",
       "      <th>1</th>\n",
       "      <td>4.9</td>\n",
       "      <td>3.0</td>\n",
       "      <td>1.4</td>\n",
       "      <td>0.2</td>\n",
       "      <td>novos_valores</td>\n",
       "      <td>77</td>\n",
       "      <td>2020-05-05</td>\n",
       "    </tr>\n",
       "  </tbody>\n",
       "</table>\n",
       "</div>"
      ],
      "text/plain": [
       "  sepal length (cm) sepal width (cm) petal length (cm) petal width (cm)  \\\n",
       "0               5.1              3.5               1.4              0.2   \n",
       "1               4.9              3.0               1.4              0.2   \n",
       "\n",
       "     nova_coluna nova_coluna_int       date  \n",
       "0  novos_valores              77 2020-05-05  \n",
       "1  novos_valores              77 2020-05-05  "
      ]
     },
     "execution_count": 99,
     "metadata": {},
     "output_type": "execute_result"
    }
   ],
   "source": [
    "#Excluindo apenas uma coluna\n",
    "df.drop('date2', axis=1, inplace=True)\n",
    "df.head(2)"
   ]
  },
  {
   "cell_type": "code",
   "execution_count": 100,
   "id": "947e05b1",
   "metadata": {
    "ExecuteTime": {
     "end_time": "2021-05-23T22:28:46.598823Z",
     "start_time": "2021-05-23T22:28:46.567905Z"
    },
    "hidden": true
   },
   "outputs": [
    {
     "name": "stderr",
     "output_type": "stream",
     "text": [
      "C:\\Users\\Ayron\\.conda\\envs\\HR_Company\\lib\\site-packages\\pandas\\core\\generic.py:4153: PerformanceWarning: dropping on a non-lexsorted multi-index without a level parameter may impact performance.\n",
      "  obj = obj._drop_axis(labels, axis, level=level, errors=errors)\n"
     ]
    },
    {
     "data": {
      "text/html": [
       "<div>\n",
       "<style scoped>\n",
       "    .dataframe tbody tr th:only-of-type {\n",
       "        vertical-align: middle;\n",
       "    }\n",
       "\n",
       "    .dataframe tbody tr th {\n",
       "        vertical-align: top;\n",
       "    }\n",
       "\n",
       "    .dataframe thead tr th {\n",
       "        text-align: left;\n",
       "    }\n",
       "</style>\n",
       "<table border=\"1\" class=\"dataframe\">\n",
       "  <thead>\n",
       "    <tr>\n",
       "      <th></th>\n",
       "      <th>sepal length (cm)</th>\n",
       "      <th>sepal width (cm)</th>\n",
       "      <th>petal length (cm)</th>\n",
       "      <th>petal width (cm)</th>\n",
       "    </tr>\n",
       "  </thead>\n",
       "  <tbody>\n",
       "    <tr>\n",
       "      <th>0</th>\n",
       "      <td>5.1</td>\n",
       "      <td>3.5</td>\n",
       "      <td>1.4</td>\n",
       "      <td>0.2</td>\n",
       "    </tr>\n",
       "    <tr>\n",
       "      <th>1</th>\n",
       "      <td>4.9</td>\n",
       "      <td>3.0</td>\n",
       "      <td>1.4</td>\n",
       "      <td>0.2</td>\n",
       "    </tr>\n",
       "  </tbody>\n",
       "</table>\n",
       "</div>"
      ],
      "text/plain": [
       "  sepal length (cm) sepal width (cm) petal length (cm) petal width (cm)\n",
       "0               5.1              3.5               1.4              0.2\n",
       "1               4.9              3.0               1.4              0.2"
      ]
     },
     "execution_count": 100,
     "metadata": {},
     "output_type": "execute_result"
    }
   ],
   "source": [
    "#Excluindo várias colunas\n",
    "cols = ['nova_coluna', 'nova_coluna_int', 'date']\n",
    "df.drop(cols, axis=1, inplace=True)\n",
    "df.head(2)"
   ]
  }
 ],
 "metadata": {
  "kernelspec": {
   "display_name": "Python 3",
   "language": "python",
   "name": "python3"
  },
  "language_info": {
   "codemirror_mode": {
    "name": "ipython",
    "version": 3
   },
   "file_extension": ".py",
   "mimetype": "text/x-python",
   "name": "python",
   "nbconvert_exporter": "python",
   "pygments_lexer": "ipython3",
   "version": "3.8.10"
  }
 },
 "nbformat": 4,
 "nbformat_minor": 5
}
